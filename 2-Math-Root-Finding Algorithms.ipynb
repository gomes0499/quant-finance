{
 "cells": [
  {
   "cell_type": "markdown",
   "metadata": {},
   "source": [
    "## Root-Finding Algorithms\n",
    "#### Overview\n",
    "Root-finding algorithms are used to determine the roots of a function, i.e., the points where \n",
    "\n",
    "f(x)=0. These algorithms are widely applied in science, engineering, finance, and other fields where equations need to be solved numerically.\n",
    "\n",
    "Common root-finding methods include:\n",
    "\n",
    "Newton-Raphson Method: Uses the derivative of the function to approximate roots, converging quickly when close to the root.\n",
    "Secant Method: Similar to Newton-Raphson but avoids the use of the derivative, using secant lines instead.\n",
    "Bisection Method: A robust method that requires an interval where the function changes sign, guaranteeing convergence to a root."
   ]
  },
  {
   "cell_type": "code",
   "execution_count": 2,
   "metadata": {},
   "outputs": [],
   "source": [
    "import numpy as np"
   ]
  },
  {
   "cell_type": "code",
   "execution_count": null,
   "metadata": {},
   "outputs": [
    {
     "name": "stdout",
     "output_type": "stream",
     "text": [
      "Root found at x = 1.4142135623746899, after 4 iterations\n",
      "Newton-Raphson Root: 1.4142135623746899\n"
     ]
    }
   ],
   "source": [
    "\n",
    "# Define the function and its derivative\n",
    "def f(x):\n",
    "    return x**2 - 2  # Example: Root of x^2 - 2 = 0 (sqrt(2))\n",
    "\n",
    "def f_prime(x):\n",
    "    return 2 * x  # Derivative of f(x)\n",
    "\n",
    "# Newton-Raphson Method\n",
    "def newton_raphson(f, f_prime, x0, tolerance=1e-6, max_iterations=100):\n",
    "    x = x0\n",
    "    for i in range(max_iterations):\n",
    "        fx = f(x)\n",
    "        fpx = f_prime(x)\n",
    "        if abs(fx) < tolerance:\n",
    "            print(f\"Root found at x = {x}, after {i} iterations\")\n",
    "            return x\n",
    "        x = x - fx / fpx\n",
    "    print(\"Max iterations reached without convergence.\")\n",
    "    return None\n",
    "\n",
    "# Testing Newton-Raphson with an initial guess\n",
    "root_nr = newton_raphson(f, f_prime, x0=1.0)\n",
    "print(f\"Newton-Raphson Root: {root_nr}\")\n"
   ]
  },
  {
   "cell_type": "code",
   "execution_count": 3,
   "metadata": {},
   "outputs": [
    {
     "name": "stdout",
     "output_type": "stream",
     "text": [
      "Root found at x = 1.4142135620573204, after 5 iterations\n",
      "Secant Method Root: 1.4142135620573204\n"
     ]
    }
   ],
   "source": [
    "# Secant Method\n",
    "def secant_method(f, x0, x1, tolerance=1e-6, max_iterations=100):\n",
    "    for i in range(max_iterations):\n",
    "        fx0 = f(x0)\n",
    "        fx1 = f(x1)\n",
    "        if abs(fx1) < tolerance:\n",
    "            print(f\"Root found at x = {x1}, after {i} iterations\")\n",
    "            return x1\n",
    "        # Update x values using the secant formula\n",
    "        x_temp = x1 - fx1 * (x1 - x0) / (fx1 - fx0)\n",
    "        x0, x1 = x1, x_temp\n",
    "    print(\"Max iterations reached without convergence.\")\n",
    "    return None\n",
    "\n",
    "# Testing Secant Method with two initial guesses\n",
    "root_secant = secant_method(f, x0=1.0, x1=2.0)\n",
    "print(f\"Secant Method Root: {root_secant}\")\n"
   ]
  },
  {
   "cell_type": "code",
   "execution_count": 4,
   "metadata": {},
   "outputs": [
    {
     "name": "stdout",
     "output_type": "stream",
     "text": [
      "Root found at x = 1.4142136573791504, after 20 iterations\n",
      "Bisection Method Root: 1.4142136573791504\n"
     ]
    }
   ],
   "source": [
    "# Bisection Method\n",
    "def bisection_method(f, a, b, tolerance=1e-6, max_iterations=100):\n",
    "    if f(a) * f(b) >= 0:\n",
    "        print(\"Bisection method fails. f(a) and f(b) must have opposite signs.\")\n",
    "        return None\n",
    "\n",
    "    for i in range(max_iterations):\n",
    "        c = (a + b) / 2\n",
    "        fc = f(c)\n",
    "        if abs(fc) < tolerance:\n",
    "            print(f\"Root found at x = {c}, after {i} iterations\")\n",
    "            return c\n",
    "        elif f(a) * fc < 0:\n",
    "            b = c\n",
    "        else:\n",
    "            a = c\n",
    "    print(\"Max iterations reached without convergence.\")\n",
    "    return None\n",
    "\n",
    "# Testing Bisection Method with an interval\n",
    "root_bisection = bisection_method(f, a=1.0, b=2.0)\n",
    "print(f\"Bisection Method Root: {root_bisection}\")\n"
   ]
  },
  {
   "cell_type": "markdown",
   "metadata": {},
   "source": [
    "#### Summary\n",
    "Newton-Raphson Method: Quick convergence when close to the root but requires the derivative of the function.\n",
    "\n",
    "Secant Method: Does not require derivatives, but convergence can be slower than Newton-Raphson.\n",
    "\n",
    "Bisection Method: Guaranteed to converge within an interval where the function changes sign but is generally slower.\n"
   ]
  },
  {
   "cell_type": "code",
   "execution_count": null,
   "metadata": {},
   "outputs": [],
   "source": []
  }
 ],
 "metadata": {
  "kernelspec": {
   "display_name": ".venv",
   "language": "python",
   "name": "python3"
  },
  "language_info": {
   "codemirror_mode": {
    "name": "ipython",
    "version": 3
   },
   "file_extension": ".py",
   "mimetype": "text/x-python",
   "name": "python",
   "nbconvert_exporter": "python",
   "pygments_lexer": "ipython3",
   "version": "3.12.7"
  }
 },
 "nbformat": 4,
 "nbformat_minor": 2
}
