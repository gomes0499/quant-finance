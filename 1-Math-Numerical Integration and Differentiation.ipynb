{
 "cells": [
  {
   "cell_type": "markdown",
   "metadata": {},
   "source": [
    "### Numerical Integration and Differentiation\n",
    "\n",
    "#### Overview\n",
    "Numerical integration and differentiation are essential techniques for approximating integrals and derivatives when analytical solutions are difficult or impossible to obtain. They are widely used in fields like engineering, physics, and finance, where precise calculations based on discrete data points or complex functions are required.\n",
    "\n",
    "Numerical Integration\n",
    "Numerical integration approximates the area under a curve by dividing it into small segments and summing them up. Common methods include:\n",
    "\n",
    "Trapezoidal Rule: Approximates the area under a curve using trapezoids.\n",
    "Simpson's Rule: Uses parabolic segments to approximate the area, providing higher accuracy for smooth curves.\n",
    "Monte Carlo Integration: Uses random sampling to approximate integrals, especially useful in high dimensions."
   ]
  },
  {
   "cell_type": "code",
   "execution_count": 1,
   "metadata": {},
   "outputs": [],
   "source": [
    "import numpy as np\n",
    "import matplotlib.pyplot as plt"
   ]
  },
  {
   "cell_type": "code",
   "execution_count": null,
   "metadata": {},
   "outputs": [
    {
     "name": "stdout",
     "output_type": "stream",
     "text": [
      "Trapezoidal Rule Result: 1.9999983550656628\n",
      "Simpson's Rule Result: 2.0000000000010827\n",
      "Monte Carlo Integration Result: 1.9649678381785516\n"
     ]
    }
   ],
   "source": [
    "# Define a sample function to integrate\n",
    "def f(x):\n",
    "    return np.sin(x)  # Function to integrate over [0, pi]\n",
    "\n",
    "# Define the integration limits\n",
    "a = 0\n",
    "b = np.pi\n",
    "\n",
    "# Number of segments (higher N means more accuracy)\n",
    "N = 1000\n",
    "\n",
    "# Trapezoidal Rule\n",
    "def trapezoidal_rule(f, a, b, N):\n",
    "    x = np.linspace(a, b, N + 1)\n",
    "    y = f(x)\n",
    "    h = (b - a) / N\n",
    "    integral = (h / 2) * np.sum(y[:-1] + y[1:])\n",
    "    return integral\n",
    "\n",
    "# Simpson's Rule\n",
    "def simpsons_rule(f, a, b, N):\n",
    "    x = np.linspace(a, b, N + 1)\n",
    "    y = f(x)\n",
    "    h = (b - a) / N\n",
    "    integral = (h / 3) * np.sum(y[0:-1:2] + 4 * y[1::2] + y[2::2])\n",
    "    return integral\n",
    "\n",
    "# Monte Carlo Integration\n",
    "def monte_carlo_integration(f, a, b, N):\n",
    "    x = np.random.uniform(a, b, N)\n",
    "    integral = (b - a) * np.mean(f(x))\n",
    "    return integral\n",
    "\n",
    "# Calculating the integrals\n",
    "trap_result = trapezoidal_rule(f, a, b, N)\n",
    "simp_result = simpsons_rule(f, a, b, N)\n",
    "mc_result = monte_carlo_integration(f, a, b, N)\n",
    "\n",
    "print(f\"Trapezoidal Rule Result: {trap_result}\")\n",
    "print(f\"Simpson's Rule Result: {simp_result}\")\n",
    "print(f\"Monte Carlo Integration Result: {mc_result}\")\n"
   ]
  },
  {
   "cell_type": "markdown",
   "metadata": {},
   "source": [
    "Numerical Differentiation\n",
    "Numerical differentiation approximates the derivative of a function based on finite differences. The methods include:\n",
    "\n",
    "Forward Difference: Uses the value at a point and a point slightly ahead.\n",
    "Central Difference: Uses points before and after the target point, generally providing a more accurate approximation."
   ]
  },
  {
   "cell_type": "code",
   "execution_count": 3,
   "metadata": {},
   "outputs": [
    {
     "name": "stdout",
     "output_type": "stream",
     "text": [
      "Forward Difference Result at x = 0.7853981633974483: -0.7071103167111125\n",
      "Central Difference Result at x = 0.7853981633974483: -0.7071067811725839\n"
     ]
    }
   ],
   "source": [
    "# Sample function to differentiate\n",
    "def g(x):\n",
    "    return np.cos(x)  # We expect g'(x) = -sin(x)\n",
    "\n",
    "# Point at which to calculate the derivative\n",
    "x0 = np.pi / 4\n",
    "h = 1e-5  # Step size for differentiation\n",
    "\n",
    "# Forward Difference\n",
    "def forward_difference(g, x0, h):\n",
    "    return (g(x0 + h) - g(x0)) / h\n",
    "\n",
    "# Central Difference\n",
    "def central_difference(g, x0, h):\n",
    "    return (g(x0 + h) - g(x0 - h)) / (2 * h)\n",
    "\n",
    "# Calculating the derivatives\n",
    "fd_result = forward_difference(g, x0, h)\n",
    "cd_result = central_difference(g, x0, h)\n",
    "\n",
    "print(f\"Forward Difference Result at x = {x0}: {fd_result}\")\n",
    "print(f\"Central Difference Result at x = {x0}: {cd_result}\")\n"
   ]
  },
  {
   "cell_type": "markdown",
   "metadata": {},
   "source": [
    "#### Summary\n",
    "Numerical Integration techniques like the trapezoidal rule, Simpson's rule, and Monte \n",
    "Carlo integration provide approximations for the area under a curve.\n",
    "\n",
    "Numerical Differentiation methods such as forward and central difference methods approximate derivatives, useful in various scientific and engineering applications."
   ]
  },
  {
   "cell_type": "markdown",
   "metadata": {},
   "source": []
  }
 ],
 "metadata": {
  "kernelspec": {
   "display_name": ".venv",
   "language": "python",
   "name": "python3"
  },
  "language_info": {
   "codemirror_mode": {
    "name": "ipython",
    "version": 3
   },
   "file_extension": ".py",
   "mimetype": "text/x-python",
   "name": "python",
   "nbconvert_exporter": "python",
   "pygments_lexer": "ipython3",
   "version": "3.12.7"
  }
 },
 "nbformat": 4,
 "nbformat_minor": 2
}
