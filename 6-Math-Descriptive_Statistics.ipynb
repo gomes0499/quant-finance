{
 "cells": [
  {
   "cell_type": "markdown",
   "id": "86823e62",
   "metadata": {},
   "source": [
    "\n",
    "# Descriptive Statistics: Mean, Median, Mode, Standard Deviation, and Variance\n",
    "\n",
    "## Overview\n",
    "Descriptive statistics provide a summary of data through measures of central tendency and dispersion. These techniques are foundational in statistics, used to understand and interpret data distributions.\n",
    "\n",
    "In this notebook, we will cover:\n",
    "\n",
    "- **Mean**: The average value of a dataset.\n",
    "- **Median**: The middle value, which separates the data into two halves.\n",
    "- **Mode**: The most frequently occurring value(s) in the dataset.\n",
    "- **Standard Deviation**: A measure of the spread of data from the mean.\n",
    "- **Variance**: The square of the standard deviation, representing data dispersion."
   ]
  },
  {
   "cell_type": "markdown",
   "id": "26cc3cb1",
   "metadata": {},
   "source": [
    "\n",
    "## 1. Mean, Median, and Mode\n",
    "\n",
    "These are measures of central tendency, which describe where most data points in a dataset tend to cluster.\n",
    "\n",
    "- **Mean** is calculated by summing all values and dividing by the number of values.\n",
    "- **Median** is the middle value of a sorted dataset (or the average of two middle values if the dataset has an even number of elements).\n",
    "- **Mode** is the most frequently occurring value in the dataset.\n"
   ]
  },
  {
   "cell_type": "code",
   "execution_count": 6,
   "id": "3ce8ad21",
   "metadata": {},
   "outputs": [
    {
     "name": "stdout",
     "output_type": "stream",
     "text": [
      "Mean: 6.545454545454546\n",
      "Median: 7.0\n",
      "Mode: 5\n"
     ]
    }
   ],
   "source": [
    "\n",
    "import numpy as np\n",
    "from scipy import stats\n",
    "\n",
    "# Sample dataset\n",
    "data = [5, 7, 3, 7, 9, 10, 6, 5, 8, 7, 5]\n",
    "\n",
    "# Mean\n",
    "mean = np.mean(data)\n",
    "print(\"Mean:\", mean)\n",
    "\n",
    "# Median\n",
    "median = np.median(data)\n",
    "print(\"Median:\", median)\n",
    "\n",
    "# Mode\n",
    "mode = stats.mode(data)\n",
    "print(\"Mode:\", mode.mode)\n"
   ]
  },
  {
   "cell_type": "markdown",
   "id": "c245b087",
   "metadata": {},
   "source": [
    "\n",
    "## 2. Standard Deviation and Variance\n",
    "\n",
    "These are measures of dispersion, describing how spread out the values in a dataset are.\n",
    "\n",
    "- **Standard Deviation** (\\( \\sigma \\)) is the square root of the average squared deviation from the mean.\n",
    "- **Variance** (\\( \\sigma^2 \\)) is the average of the squared deviations from the mean.\n",
    "\n",
    "Let's calculate the standard deviation and variance for our sample dataset.\n"
   ]
  },
  {
   "cell_type": "code",
   "execution_count": 7,
   "id": "2a43c90a",
   "metadata": {},
   "outputs": [
    {
     "name": "stdout",
     "output_type": "stream",
     "text": [
      "Standard Deviation: 2.018099916438052\n",
      "Variance: 4.072727272727273\n"
     ]
    }
   ],
   "source": [
    "# Standard Deviation\n",
    "std_dev = np.std(data, ddof=1)  \n",
    "print(\"Standard Deviation:\", std_dev)\n",
    "\n",
    "# Variance\n",
    "variance = np.var(data, ddof=1)  \n",
    "print(\"Variance:\", variance)\n"
   ]
  },
  {
   "cell_type": "markdown",
   "id": "3dbee4f3",
   "metadata": {},
   "source": [
    "\n",
    "## Summary\n",
    "\n",
    "In this notebook, we covered:\n",
    "\n",
    "- **Mean**: The average of the dataset.\n",
    "- **Median**: The middle value in a sorted dataset.\n",
    "- **Mode**: The most frequently occurring value in the dataset.\n",
    "- **Standard Deviation**: A measure of the spread of data from the mean.\n",
    "- **Variance**: The square of the standard deviation, indicating data dispersion."
   ]
  }
 ],
 "metadata": {
  "kernelspec": {
   "display_name": ".venv",
   "language": "python",
   "name": "python3"
  },
  "language_info": {
   "codemirror_mode": {
    "name": "ipython",
    "version": 3
   },
   "file_extension": ".py",
   "mimetype": "text/x-python",
   "name": "python",
   "nbconvert_exporter": "python",
   "pygments_lexer": "ipython3",
   "version": "3.12.7"
  }
 },
 "nbformat": 4,
 "nbformat_minor": 5
}
