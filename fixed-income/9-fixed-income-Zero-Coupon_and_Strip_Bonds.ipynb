{
 "cells": [
  {
   "cell_type": "markdown",
   "id": "96860598",
   "metadata": {},
   "source": [
    "\n",
    "# Zero-Coupon Bonds and Strip Bonds: Special Cases of Fixed Income Instruments\n",
    "\n",
    "## Overview\n",
    "Zero-coupon bonds and strip bonds are unique types of fixed income instruments that do not pay periodic interest. Instead, they are issued at a discount to their face value and provide a return upon maturity when the bondholder receives the face value.\n",
    "\n",
    "In this notebook, we will:\n",
    "\n",
    "- **Explore Zero-Coupon Bonds**: Understand how zero-coupon bonds differ from traditional bonds and calculate their returns.\n",
    "- **Examine Strip Bonds**: Discuss how strip bonds are created by separating the interest and principal components of traditional bonds.\n",
    "\n",
    "Zero-coupon and strip bonds are often used by investors seeking a known future value or specific maturity date.\n"
   ]
  },
  {
   "cell_type": "markdown",
   "id": "9385f6e7",
   "metadata": {},
   "source": [
    "\n",
    "## 1. Zero-Coupon Bonds\n",
    "\n",
    "A zero-coupon bond is issued at a discount to its face value and does not pay any periodic interest. The bondholder receives the face value at maturity, making the difference between the purchase price and the face value the investor's return.\n",
    "\n",
    "### Example Calculation\n",
    "\n",
    "Let's calculate the yield for a zero-coupon bond with:\n",
    "\n",
    "- Face Value: $1,000\n",
    "- Maturity: 5 years\n",
    "- Purchase Price: $800\n",
    "\n",
    "The yield can be calculated using the following formula:\n",
    "\n",
    "\\[ Yield = \\left(\\frac{Face\\ Value}{Purchase\\ Price}\\right)^{\\frac{1}{Maturity}} - 1 \\]\n"
   ]
  },
  {
   "cell_type": "code",
   "execution_count": 1,
   "id": "464d44b6",
   "metadata": {},
   "outputs": [
    {
     "name": "stdout",
     "output_type": "stream",
     "text": [
      "Face Value: $1000\n",
      "Purchase Price: $800\n",
      "Years to Maturity: 5\n",
      "Yield on Zero-Coupon Bond: 4.56%\n"
     ]
    }
   ],
   "source": [
    "\n",
    "# Parameters for zero-coupon bond\n",
    "face_value = 1000   # Face value at maturity\n",
    "purchase_price = 800  # Price at which the bond was purchased\n",
    "maturity = 5  # Years to maturity\n",
    "\n",
    "# Calculate the yield for a zero-coupon bond\n",
    "yield_zero_coupon = (face_value / purchase_price) ** (1 / maturity) - 1\n",
    "\n",
    "print(f\"Face Value: ${face_value}\")\n",
    "print(f\"Purchase Price: ${purchase_price}\")\n",
    "print(f\"Years to Maturity: {maturity}\")\n",
    "print(f\"Yield on Zero-Coupon Bond: {yield_zero_coupon:.2%}\")\n"
   ]
  },
  {
   "cell_type": "markdown",
   "id": "094d4ea4",
   "metadata": {},
   "source": [
    "\n",
    "## 2. Strip Bonds\n",
    "\n",
    "Strip bonds, also known as \"strips,\" are created by separating the interest payments and principal of a traditional bond. Each separated component becomes its own zero-coupon bond, with each coupon and the principal payment trading as individual securities.\n",
    "\n",
    "For example, a 10-year bond with semi-annual coupon payments can be \"stripped\" into 20 coupon payments and 1 principal payment, each trading separately.\n",
    "\n",
    "### Calculation Example\n",
    "\n",
    "Suppose we have a 10-year government bond with a face value of $1,000 and a 5% annual coupon rate. Let's calculate the price of a single strip created from a single coupon payment, assuming a discount rate of 3%.\n"
   ]
  },
  {
   "cell_type": "code",
   "execution_count": 2,
   "id": "11a9181c",
   "metadata": {},
   "outputs": [
    {
     "name": "stdout",
     "output_type": "stream",
     "text": [
      "Coupon Payment (Face Value of Strip): $25\n",
      "Discount Rate: 3.00%\n",
      "Years to Coupon Payment: 1\n",
      "Price of Strip Bond (for one coupon payment): $24.27\n"
     ]
    }
   ],
   "source": [
    "\n",
    "# Parameters for strip bond example\n",
    "face_value_coupon = 25  # Individual coupon payment (assuming semi-annual, 5% annual rate -> $25 per coupon)\n",
    "discount_rate = 0.03  # Discount rate for the strip bond\n",
    "years_to_payment = 1  # Time in years until the coupon is paid\n",
    "\n",
    "# Calculate the price of the strip bond\n",
    "price_strip = face_value_coupon / ((1 + discount_rate) ** years_to_payment)\n",
    "\n",
    "print(f\"Coupon Payment (Face Value of Strip): ${face_value_coupon}\")\n",
    "print(f\"Discount Rate: {discount_rate:.2%}\")\n",
    "print(f\"Years to Coupon Payment: {years_to_payment}\")\n",
    "print(f\"Price of Strip Bond (for one coupon payment): ${price_strip:.2f}\")\n"
   ]
  },
  {
   "cell_type": "markdown",
   "id": "9c6a2eff",
   "metadata": {},
   "source": [
    "\n",
    "## Summary\n",
    "\n",
    "In this notebook, we explored:\n",
    "\n",
    "- **Zero-Coupon Bonds**: Bonds issued at a discount to face value with no periodic interest payments, ideal for investors seeking a known maturity value.\n",
    "- **Strip Bonds**: Bonds created by stripping the interest and principal payments from a traditional bond, with each component trading separately as a zero-coupon bond.\n",
    "\n",
    "Zero-coupon and strip bonds provide unique fixed-income investment opportunities for investors with specific cash flow or maturity needs.\n"
   ]
  }
 ],
 "metadata": {
  "kernelspec": {
   "display_name": ".venv",
   "language": "python",
   "name": "python3"
  },
  "language_info": {
   "codemirror_mode": {
    "name": "ipython",
    "version": 3
   },
   "file_extension": ".py",
   "mimetype": "text/x-python",
   "name": "python",
   "nbconvert_exporter": "python",
   "pygments_lexer": "ipython3",
   "version": "3.12.7"
  }
 },
 "nbformat": 4,
 "nbformat_minor": 5
}
