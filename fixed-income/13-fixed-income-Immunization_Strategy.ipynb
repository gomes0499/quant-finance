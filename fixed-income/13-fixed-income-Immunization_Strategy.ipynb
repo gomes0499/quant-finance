{
 "cells": [
  {
   "cell_type": "markdown",
   "id": "3af331a4",
   "metadata": {},
   "source": [
    "\n",
    "# Immunization Strategy: Protecting Against Interest Rate Changes by Matching Bond Duration to Investment Horizon\n",
    "\n",
    "## Overview\n",
    "The Immunization Strategy is a fixed-income approach that aims to protect a bond portfolio from interest rate changes by matching the portfolio's duration to the investor's time horizon. By doing so, any potential losses from interest rate increases are offset by gains from reinvestment opportunities, helping to maintain the portfolio's value.\n",
    "\n",
    "In this notebook, we will:\n",
    "\n",
    "- **Understand the Immunization Strategy**: Explore how matching bond duration to the investment horizon helps manage interest rate risk.\n",
    "- **Simulate an Immunized Portfolio**: Calculate the duration of a hypothetical portfolio and align it with a target investment horizon.\n",
    "- **Analyze the Benefits and Risks**: Discuss the advantages and limitations of using an immunization approach.\n",
    "\n",
    "The Immunization Strategy is commonly used by investors with specific future liabilities, seeking to ensure predictable cash flow.\n"
   ]
  },
  {
   "cell_type": "markdown",
   "id": "b93d4b09",
   "metadata": {},
   "source": [
    "\n",
    "## 1. Understanding the Immunization Strategy\n",
    "\n",
    "In an immunized portfolio, the duration (weighted average time to receive cash flows) of the bonds is aligned with the investor's investment horizon. This strategy reduces the portfolio's sensitivity to interest rate changes, making it more resilient to rate fluctuations.\n",
    "\n",
    "By matching duration to the investment horizon, the portfolio value remains relatively stable, as price losses from rising rates are offset by higher yields on reinvested cash flows.\n"
   ]
  },
  {
   "cell_type": "markdown",
   "id": "d30bc614",
   "metadata": {},
   "source": [
    "\n",
    "## 2. Hypothetical Portfolio Setup and Duration Calculation\n",
    "\n",
    "Let's create a hypothetical portfolio with bonds of different maturities. We will calculate the portfolio's duration and adjust it to match a target investment horizon.\n",
    "\n",
    "Assume the portfolio contains bonds with 3, 5, and 10-year maturities.\n"
   ]
  },
  {
   "cell_type": "code",
   "execution_count": 1,
   "id": "3d54092a",
   "metadata": {},
   "outputs": [
    {
     "name": "stdout",
     "output_type": "stream",
     "text": [
      "Bond Maturities (years): [ 3  5 10]\n",
      "Bond Yields: [0.02  0.025 0.03 ]\n",
      "Bond Durations (years): [2.94 4.88 9.71]\n",
      "Portfolio Duration: 5.84 years\n"
     ]
    }
   ],
   "source": [
    "\n",
    "import numpy as np\n",
    "\n",
    "# Define maturities, yields, and cash flows for each bond in the portfolio\n",
    "maturities = np.array([3, 5, 10])  # Maturities in years\n",
    "yields = np.array([0.02, 0.025, 0.03])  # Annual yields for each bond\n",
    "face_values = np.array([1000, 1000, 1000])  # Face value of each bond\n",
    "\n",
    "# Calculate annual coupon payments (assuming 5% coupon rate for simplicity)\n",
    "coupon_rate = 0.05\n",
    "coupon_payments = face_values * coupon_rate\n",
    "\n",
    "# Calculate duration of each bond using Macaulay Duration\n",
    "durations = maturities / (1 + yields)  # Simplified Macaulay Duration for illustration\n",
    "\n",
    "# Calculate the portfolio's weighted duration\n",
    "portfolio_value = np.sum(face_values)\n",
    "portfolio_duration = np.sum((durations * face_values) / portfolio_value)\n",
    "\n",
    "print(\"Bond Maturities (years):\", maturities)\n",
    "print(\"Bond Yields:\", yields)\n",
    "print(\"Bond Durations (years):\", durations.round(2))\n",
    "print(f\"Portfolio Duration: {portfolio_duration:.2f} years\")\n"
   ]
  },
  {
   "cell_type": "markdown",
   "id": "b284d1a2",
   "metadata": {},
   "source": [
    "\n",
    "## 3. Benefits and Risks of the Immunization Strategy\n",
    "\n",
    "The Immunization Strategy offers several benefits:\n",
    "\n",
    "- **Interest Rate Risk Management**: By aligning portfolio duration with the investment horizon, the portfolio is less sensitive to interest rate changes.\n",
    "- **Predictable Cash Flows**: Immunization helps protect against rate changes, ensuring cash flows are available to meet future liabilities.\n",
    "\n",
    "### Risks\n",
    "- **Reinvestment Risk**: As bonds mature, reinvestment may be necessary, and yields may differ from the original bonds' yields.\n",
    "- **Market Assumptions**: The effectiveness of immunization assumes stable market conditions; extreme volatility can impact outcomes.\n",
    "\n",
    "Immunization is useful for investors seeking protection from interest rate risk, especially those with future liabilities or specific financial goals.\n"
   ]
  }
 ],
 "metadata": {
  "kernelspec": {
   "display_name": ".venv",
   "language": "python",
   "name": "python3"
  },
  "language_info": {
   "codemirror_mode": {
    "name": "ipython",
    "version": 3
   },
   "file_extension": ".py",
   "mimetype": "text/x-python",
   "name": "python",
   "nbconvert_exporter": "python",
   "pygments_lexer": "ipython3",
   "version": "3.12.7"
  }
 },
 "nbformat": 4,
 "nbformat_minor": 5
}
