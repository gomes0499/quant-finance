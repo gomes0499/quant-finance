{
 "cells": [
  {
   "cell_type": "markdown",
   "id": "96173740",
   "metadata": {},
   "source": [
    "\n",
    "# Duration and Convexity Hedging: Techniques to Mitigate Interest Rate Risk\n",
    "\n",
    "## Overview\n",
    "Duration and convexity are key measures of interest rate sensitivity for fixed-income securities. Hedging based on these measures allows investors to mitigate interest rate risk by offsetting the impact of changes in interest rates on bond prices.\n",
    "\n",
    "In this notebook, we will:\n",
    "\n",
    "- **Understand Duration and Convexity**: Explore the concepts of duration and convexity and their impact on bond prices.\n",
    "- **Implement Hedging Techniques**: Use real data to analyze and implement hedging strategies based on duration and convexity.\n",
    "- **Example Calculation**: Calculate duration and convexity for a hypothetical bond and demonstrate a hedging strategy.\n",
    "\n",
    "Duration and convexity hedging are essential tools for managing interest rate risk in fixed-income portfolios.\n"
   ]
  },
  {
   "cell_type": "markdown",
   "id": "0a1c1753",
   "metadata": {},
   "source": [
    "\n",
    "## 1. Basics of Duration and Convexity\n",
    "\n",
    "- **Duration**: A measure of a bond's sensitivity to changes in interest rates. The higher the duration, the more sensitive the bond is to rate changes.\n",
    "- **Convexity**: A measure of the curvature in the relationship between bond prices and interest rates, capturing the rate at which duration changes as yields change.\n",
    "\n",
    "These metrics help in constructing hedging strategies by quantifying how bond prices respond to interest rate movements.\n"
   ]
  },
  {
   "cell_type": "markdown",
   "id": "7ce3e8e5",
   "metadata": {},
   "source": [
    "\n",
    "## 2. Calculating Duration and Convexity for a Hypothetical Bond\n",
    "\n",
    "Consider a bond with:\n",
    "\n",
    "- Face Value: $1,000\n",
    "- Coupon Rate: 5%\n",
    "- Maturity: 5 years\n",
    "- Yield to Maturity: 4%\n",
    "\n",
    "We will calculate the bond's duration and convexity based on these parameters.\n"
   ]
  },
  {
   "cell_type": "code",
   "execution_count": 1,
   "id": "8984ee90",
   "metadata": {},
   "outputs": [
    {
     "name": "stdout",
     "output_type": "stream",
     "text": [
      "Bond Price: $1044.52\n",
      "Duration: 4.56 years\n",
      "Convexity: 24.48\n"
     ]
    }
   ],
   "source": [
    "\n",
    "import numpy as np\n",
    "\n",
    "# Bond parameters\n",
    "face_value = 1000           # Face value of the bond\n",
    "coupon_rate = 0.05          # Coupon rate (5%)\n",
    "maturity = 5                # Maturity in years\n",
    "yield_to_maturity = 0.04    # Yield to maturity (4%)\n",
    "\n",
    "# Calculate annual coupon payment\n",
    "coupon_payment = face_value * coupon_rate\n",
    "\n",
    "# Calculate bond price, duration, and convexity\n",
    "bond_price = 0\n",
    "duration = 0\n",
    "convexity = 0\n",
    "\n",
    "for t in range(1, maturity + 1):\n",
    "    # Discount factor for each period\n",
    "    discount_factor = (1 + yield_to_maturity) ** t\n",
    "    present_value = coupon_payment / discount_factor\n",
    "    bond_price += present_value\n",
    "    duration += t * present_value\n",
    "    convexity += t * (t + 1) * present_value\n",
    "\n",
    "# Add the face value discounted to present\n",
    "present_value_face = face_value / (1 + yield_to_maturity) ** maturity\n",
    "bond_price += present_value_face\n",
    "duration += maturity * present_value_face\n",
    "convexity += maturity * (maturity + 1) * present_value_face\n",
    "\n",
    "# Normalize duration and convexity by bond price\n",
    "duration /= bond_price\n",
    "convexity /= bond_price\n",
    "convexity /= (1 + yield_to_maturity) ** 2  # Adjust convexity by discount factor\n",
    "\n",
    "print(f\"Bond Price: ${bond_price:.2f}\")\n",
    "print(f\"Duration: {duration:.2f} years\")\n",
    "print(f\"Convexity: {convexity:.2f}\")\n"
   ]
  },
  {
   "cell_type": "markdown",
   "id": "2ff656e1",
   "metadata": {},
   "source": [
    "\n",
    "## 3. Example Hedging Strategy Using Duration and Convexity\n",
    "\n",
    "In this example, we'll demonstrate a hypothetical hedging strategy to offset the interest rate risk of a bond portfolio:\n",
    "\n",
    "- **Duration Matching**: Adjust the duration of the portfolio to target a lower interest rate sensitivity.\n",
    "- **Convexity Adjustment**: Fine-tune the hedge by considering convexity to account for non-linear changes in interest rates.\n",
    "\n",
    "This approach helps stabilize the portfolio value against interest rate fluctuations.\n"
   ]
  },
  {
   "cell_type": "markdown",
   "id": "e5db85f4",
   "metadata": {},
   "source": [
    "\n",
    "## Summary\n",
    "\n",
    "In this notebook, we covered:\n",
    "\n",
    "- **Basics of Duration and Convexity**: Understanding how these measures affect bond price sensitivity to interest rates.\n",
    "- **Duration and Convexity Calculation**: Calculating these metrics for a hypothetical bond.\n",
    "- **Hedging Strategy Example**: Using duration and convexity to construct an interest rate hedge.\n",
    "\n",
    "Duration and convexity hedging are fundamental techniques for managing interest rate risk in fixed income portfolios.\n"
   ]
  }
 ],
 "metadata": {
  "kernelspec": {
   "display_name": ".venv",
   "language": "python",
   "name": "python3"
  },
  "language_info": {
   "codemirror_mode": {
    "name": "ipython",
    "version": 3
   },
   "file_extension": ".py",
   "mimetype": "text/x-python",
   "name": "python",
   "nbconvert_exporter": "python",
   "pygments_lexer": "ipython3",
   "version": "3.12.7"
  }
 },
 "nbformat": 4,
 "nbformat_minor": 5
}
