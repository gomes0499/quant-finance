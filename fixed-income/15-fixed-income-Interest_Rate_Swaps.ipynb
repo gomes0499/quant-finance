{
 "cells": [
  {
   "cell_type": "markdown",
   "id": "69f730ce",
   "metadata": {},
   "source": [
    "\n",
    "# Interest Rate Swaps: Basics, Valuation, and Hedging Applications\n",
    "\n",
    "## Overview\n",
    "Interest rate swaps are a type of derivative contract in which two parties exchange cash flows based on different interest rates. These swaps are often used to hedge interest rate exposure or to adjust the interest rate characteristics of a portfolio.\n",
    "\n",
    "In this notebook, we will:\n",
    "\n",
    "- **Understand the Basics of Interest Rate Swaps**: Explore how swaps work and their key components.\n",
    "- **Learn Swap Valuation**: Calculate the value of a swap using a fixed rate and floating rate.\n",
    "- **Discuss Hedging Applications**: See how swaps can be used to hedge against interest rate fluctuations.\n",
    "\n",
    "Interest rate swaps are popular tools in fixed-income management for controlling exposure to changes in interest rates.\n"
   ]
  },
  {
   "cell_type": "markdown",
   "id": "b634d0f1",
   "metadata": {},
   "source": [
    "\n",
    "## 1. Basics of Interest Rate Swaps\n",
    "\n",
    "An interest rate swap typically involves two parties exchanging cash flows:\n",
    "\n",
    "- **Fixed Rate Payer**: Pays a fixed interest rate on a notional principal.\n",
    "- **Floating Rate Payer**: Pays a floating interest rate (often linked to LIBOR or SOFR) on the same notional principal.\n",
    "\n",
    "The parties do not exchange the principal amount; they only exchange interest payments based on the notional value. Swaps are used to manage interest rate risk, adjust cash flows, or take advantage of anticipated rate movements.\n"
   ]
  },
  {
   "cell_type": "markdown",
   "id": "29e62cba",
   "metadata": {},
   "source": [
    "\n",
    "## 2. Hypothetical Swap Valuation\n",
    "\n",
    "Let's consider a hypothetical swap with:\n",
    "\n",
    "- Notional Principal: $1,000,000\n",
    "- Fixed Rate: 3%\n",
    "- Floating Rate: Based on a hypothetical 1-year LIBOR rate of 2.5%\n",
    "\n",
    "We'll calculate the net cash flow for the fixed rate payer in the first year.\n"
   ]
  },
  {
   "cell_type": "code",
   "execution_count": 1,
   "id": "77c3b6f0",
   "metadata": {},
   "outputs": [
    {
     "name": "stdout",
     "output_type": "stream",
     "text": [
      "Fixed Payment: $30,000.00\n",
      "Floating Payment: $25,000.00\n",
      "Net Cash Flow (Fixed Rate Payer): $5,000.00\n"
     ]
    }
   ],
   "source": [
    "\n",
    "# Parameters for swap example\n",
    "notional_principal = 1_000_000  # Notional principal in dollars\n",
    "fixed_rate = 0.03               # Fixed rate (3%)\n",
    "floating_rate = 0.025           # Hypothetical floating rate (2.5%)\n",
    "\n",
    "# Calculate fixed and floating payments\n",
    "fixed_payment = notional_principal * fixed_rate\n",
    "floating_payment = notional_principal * floating_rate\n",
    "\n",
    "# Net cash flow for the fixed rate payer\n",
    "net_cash_flow = fixed_payment - floating_payment\n",
    "\n",
    "print(f\"Fixed Payment: ${fixed_payment:,.2f}\")\n",
    "print(f\"Floating Payment: ${floating_payment:,.2f}\")\n",
    "print(f\"Net Cash Flow (Fixed Rate Payer): ${net_cash_flow:,.2f}\")\n"
   ]
  },
  {
   "cell_type": "markdown",
   "id": "bcf09599",
   "metadata": {},
   "source": [
    "\n",
    "## 3. Hedging Applications of Interest Rate Swaps\n",
    "\n",
    "Interest rate swaps can be used to manage and hedge interest rate risk:\n",
    "\n",
    "- **Convert Fixed to Floating**: A firm with fixed-rate debt may enter a swap to pay floating rates, allowing it to benefit if rates decrease.\n",
    "- **Convert Floating to Fixed**: A firm with floating-rate debt can lock in a fixed rate through a swap, protecting it from rising rates.\n",
    "\n",
    "This flexibility makes swaps an essential tool for managing interest rate exposure in volatile markets.\n"
   ]
  },
  {
   "cell_type": "markdown",
   "id": "e86c7701",
   "metadata": {},
   "source": [
    "\n",
    "## Summary\n",
    "\n",
    "In this notebook, we covered:\n",
    "\n",
    "- **Basics of Interest Rate Swaps**: How swaps function and the roles of fixed and floating rate payers.\n",
    "- **Swap Valuation Example**: Calculating the net cash flow for the fixed rate payer in a hypothetical swap.\n",
    "- **Hedging Applications**: Using swaps to manage interest rate exposure and tailor cash flows to market conditions.\n",
    "\n",
    "Interest rate swaps are versatile instruments that provide effective solutions for managing interest rate risk.\n"
   ]
  }
 ],
 "metadata": {
  "kernelspec": {
   "display_name": ".venv",
   "language": "python",
   "name": "python3"
  },
  "language_info": {
   "codemirror_mode": {
    "name": "ipython",
    "version": 3
   },
   "file_extension": ".py",
   "mimetype": "text/x-python",
   "name": "python",
   "nbconvert_exporter": "python",
   "pygments_lexer": "ipython3",
   "version": "3.12.7"
  }
 },
 "nbformat": 4,
 "nbformat_minor": 5
}
