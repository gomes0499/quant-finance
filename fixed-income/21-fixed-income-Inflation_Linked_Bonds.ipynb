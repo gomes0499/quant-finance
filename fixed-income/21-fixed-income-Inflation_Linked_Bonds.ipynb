{
 "cells": [
  {
   "cell_type": "markdown",
   "id": "f2a91dfb",
   "metadata": {},
   "source": [
    "\n",
    "# Inflation-Linked Bonds: Understanding TIPS and Other Inflation-Indexed Bonds\n",
    "\n",
    "## Overview\n",
    "Inflation-linked bonds, also known as inflation-indexed bonds, are bonds whose principal or interest payments adjust based on inflation rates. These bonds help protect investors from the eroding effects of inflation on purchasing power.\n",
    "\n",
    "In this notebook, we will:\n",
    "\n",
    "- **Understand Inflation-Linked Bonds**: Explore how these bonds work and the benefits they offer.\n",
    "- **Examine TIPS (Treasury Inflation-Protected Securities)**: Discuss TIPS as a popular inflation-linked bond in the U.S. market.\n",
    "- **Example Calculation**: Use hypothetical inflation data to illustrate the adjustment of a TIPS bond's principal and interest.\n",
    "\n",
    "Inflation-linked bonds are valuable tools for preserving purchasing power in inflationary environments.\n"
   ]
  },
  {
   "cell_type": "markdown",
   "id": "acbdc048",
   "metadata": {},
   "source": [
    "\n",
    "## 1. Basics of Inflation-Linked Bonds\n",
    "\n",
    "Inflation-linked bonds are designed to protect investors against inflation. The principal or interest payments on these bonds are adjusted periodically based on inflation, typically measured by the Consumer Price Index (CPI).\n",
    "\n",
    "Key characteristics of inflation-linked bonds include:\n",
    "\n",
    "- **Inflation Adjustment**: The bond's principal value adjusts with inflation, and interest is paid on the adjusted principal.\n",
    "- **Preservation of Purchasing Power**: These bonds help protect investors from the eroding effects of inflation on income and principal.\n",
    "\n",
    "TIPS (Treasury Inflation-Protected Securities) are a common type of inflation-linked bond issued by the U.S. Treasury.\n"
   ]
  },
  {
   "cell_type": "markdown",
   "id": "3d8921a8",
   "metadata": {},
   "source": [
    "\n",
    "## 2. Treasury Inflation-Protected Securities (TIPS)\n",
    "\n",
    "TIPS are inflation-linked bonds issued by the U.S. Treasury. The principal value of TIPS adjusts based on the Consumer Price Index (CPI), and the bond pays interest on the adjusted principal.\n",
    "\n",
    "- **Principal Adjustment**: The bond's principal increases with inflation and decreases with deflation.\n",
    "- **Interest Payment**: The interest payment is calculated based on the adjusted principal.\n",
    "\n",
    "TIPS provide investors with a predictable real rate of return, adjusted to maintain purchasing power over time.\n"
   ]
  },
  {
   "cell_type": "markdown",
   "id": "b26f0168",
   "metadata": {},
   "source": [
    "\n",
    "## 3. Example Calculation: TIPS Adjustment\n",
    "\n",
    "Consider a TIPS bond with:\n",
    "\n",
    "- Initial Principal: $1,000\n",
    "- Annual Coupon Rate: 1.5%\n",
    "- CPI Increase: 2% over the year\n",
    "\n",
    "We'll calculate the adjusted principal and the interest payment based on the CPI increase.\n"
   ]
  },
  {
   "cell_type": "code",
   "execution_count": 1,
   "id": "b68a7feb",
   "metadata": {},
   "outputs": [
    {
     "name": "stdout",
     "output_type": "stream",
     "text": [
      "Initial Principal: $1,000.00\n",
      "Adjusted Principal (after CPI increase): $1,020.00\n",
      "Interest Payment (on adjusted principal): $15.30\n"
     ]
    }
   ],
   "source": [
    "\n",
    "# Parameters for TIPS example calculation\n",
    "initial_principal = 1000     # Initial principal of the bond\n",
    "annual_coupon_rate = 0.015   # Annual coupon rate (1.5%)\n",
    "cpi_increase = 0.02          # Hypothetical CPI increase (2%)\n",
    "\n",
    "# Adjusted principal calculation\n",
    "adjusted_principal = initial_principal * (1 + cpi_increase)\n",
    "\n",
    "# Interest payment on adjusted principal\n",
    "interest_payment = adjusted_principal * annual_coupon_rate\n",
    "\n",
    "print(f\"Initial Principal: ${initial_principal:,.2f}\")\n",
    "print(f\"Adjusted Principal (after CPI increase): ${adjusted_principal:,.2f}\")\n",
    "print(f\"Interest Payment (on adjusted principal): ${interest_payment:,.2f}\")\n"
   ]
  },
  {
   "cell_type": "markdown",
   "id": "0c1bac15",
   "metadata": {},
   "source": [
    "\n",
    "## Summary\n",
    "\n",
    "In this notebook, we covered:\n",
    "\n",
    "- **Basics of Inflation-Linked Bonds**: Understanding how these bonds protect against inflation.\n",
    "- **Treasury Inflation-Protected Securities (TIPS)**: Examining TIPS as a popular inflation-indexed bond in the U.S.\n",
    "- **Example Calculation**: Calculating the principal adjustment and interest payment for a hypothetical TIPS bond.\n",
    "\n",
    "Inflation-linked bonds are valuable tools for investors seeking to preserve purchasing power in inflationary environments.\n"
   ]
  }
 ],
 "metadata": {
  "kernelspec": {
   "display_name": ".venv",
   "language": "python",
   "name": "python3"
  },
  "language_info": {
   "codemirror_mode": {
    "name": "ipython",
    "version": 3
   },
   "file_extension": ".py",
   "mimetype": "text/x-python",
   "name": "python",
   "nbconvert_exporter": "python",
   "pygments_lexer": "ipython3",
   "version": "3.12.7"
  }
 },
 "nbformat": 4,
 "nbformat_minor": 5
}
