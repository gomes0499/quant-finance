{
 "cells": [
  {
   "cell_type": "markdown",
   "id": "54b457dd",
   "metadata": {},
   "source": [
    "\n",
    "# Duration and Convexity: Measures of Interest Rate Sensitivity\n",
    "\n",
    "## Overview\n",
    "Duration and Convexity are key measures used to assess the sensitivity of bond prices to changes in interest rates. Understanding these metrics is essential for managing bond portfolio risks.\n",
    "\n",
    "- **Duration**: Measures the weighted average time until a bond's cash flows are received and indicates the bond's sensitivity to interest rate changes.\n",
    "- **Convexity**: Measures the curvature in the relationship between bond prices and interest rates, providing a more accurate estimate of price sensitivity for larger interest rate changes.\n",
    "\n",
    "## Calculating Duration and Convexity\n",
    "\n",
    "Let's consider a hypothetical bond with the following characteristics:\n",
    "\n",
    "- Face Value: $1,000\n",
    "- Coupon Rate: 5% (annual payments)\n",
    "- Maturity: 10 years\n",
    "- Yield to Maturity (YTM): 4%\n",
    "\n",
    "We will calculate the Macaulay Duration, Modified Duration, and Convexity for this bond.\n"
   ]
  },
  {
   "cell_type": "code",
   "execution_count": 1,
   "id": "0915f425",
   "metadata": {},
   "outputs": [
    {
     "name": "stdout",
     "output_type": "stream",
     "text": [
      "Bond Price: $1081.11\n",
      "Macaulay Duration: 8.19 years\n",
      "Modified Duration: 7.88 years\n",
      "Convexity: 77.48\n"
     ]
    }
   ],
   "source": [
    "\n",
    "import numpy as np\n",
    "\n",
    "# Bond parameters\n",
    "face_value = 1000\n",
    "coupon_rate = 0.05\n",
    "maturity = 10\n",
    "ytm = 0.04\n",
    "\n",
    "# Annual coupon payment\n",
    "coupon_payment = face_value * coupon_rate\n",
    "\n",
    "# Time periods\n",
    "t = np.arange(1, maturity + 1)\n",
    "\n",
    "# Present value of cash flows\n",
    "pv_coupons = coupon_payment / (1 + ytm) ** t\n",
    "pv_face_value = face_value / (1 + ytm) ** maturity\n",
    "\n",
    "# Bond price\n",
    "bond_price = np.sum(pv_coupons) + pv_face_value\n",
    "\n",
    "# Macaulay Duration\n",
    "weighted_times = t * pv_coupons\n",
    "macaulay_duration = (np.sum(weighted_times) + maturity * pv_face_value) / bond_price\n",
    "\n",
    "# Modified Duration\n",
    "modified_duration = macaulay_duration / (1 + ytm)\n",
    "\n",
    "# Convexity\n",
    "convexity = (np.sum(weighted_times * (t + 1)) + maturity * (maturity + 1) * pv_face_value) / (bond_price * (1 + ytm) ** 2)\n",
    "\n",
    "print(f\"Bond Price: ${bond_price:.2f}\")\n",
    "print(f\"Macaulay Duration: {macaulay_duration:.2f} years\")\n",
    "print(f\"Modified Duration: {modified_duration:.2f} years\")\n",
    "print(f\"Convexity: {convexity:.2f}\")\n"
   ]
  },
  {
   "cell_type": "markdown",
   "id": "9c38f96e",
   "metadata": {},
   "source": [
    "\n",
    "## Interpretation\n",
    "\n",
    "- **Macaulay Duration**: Indicates the weighted average time to receive the bond's cash flows. A higher duration means greater sensitivity to interest rate changes.\n",
    "- **Modified Duration**: Adjusts Macaulay Duration for the bond's yield, providing a direct measure of price sensitivity to interest rate changes. For example, a Modified Duration of 7.5 years suggests that a 1% increase in interest rates would result in approximately a 7.5% decrease in the bond's price.\n",
    "- **Convexity**: Accounts for the curvature in the price-yield relationship, improving the accuracy of price change estimates for larger interest rate movements.\n",
    "\n",
    "## Conclusion\n",
    "\n",
    "Understanding Duration and Convexity is crucial for bond investors and portfolio managers to assess and manage interest rate risk effectively. These measures provide insights into how bond prices are likely to respond to changes in interest rates, aiding in making informed investment decisions.\n"
   ]
  }
 ],
 "metadata": {
  "kernelspec": {
   "display_name": ".venv",
   "language": "python",
   "name": "python3"
  },
  "language_info": {
   "codemirror_mode": {
    "name": "ipython",
    "version": 3
   },
   "file_extension": ".py",
   "mimetype": "text/x-python",
   "name": "python",
   "nbconvert_exporter": "python",
   "pygments_lexer": "ipython3",
   "version": "3.12.7"
  }
 },
 "nbformat": 4,
 "nbformat_minor": 5
}
