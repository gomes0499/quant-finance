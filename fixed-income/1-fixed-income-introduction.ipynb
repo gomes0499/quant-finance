{
 "cells": [
  {
   "cell_type": "markdown",
   "id": "80f762dd",
   "metadata": {},
   "source": [
    "\n",
    "# Introduction to Fixed Income: Overview of Fixed Income Securities\n",
    "\n",
    "## Overview\n",
    "Fixed income securities are investment instruments that pay fixed interest or dividend income over a specified time period. These securities are popular among investors seeking stable returns and are integral components of many portfolios, offering diversification and risk management.\n",
    "\n",
    "In this notebook, we will explore:\n",
    "\n",
    "- **Types of Fixed Income Securities**: Bonds, T-bills, notes, etc.\n",
    "- **Characteristics of Fixed Income**: Key features like maturity, coupon rate, face value, and yield.\n",
    "- **Role in Portfolio Management**: How fixed income investments contribute to portfolio diversification and risk management.\n",
    "\n",
    "Let's dive into each of these sections.\n"
   ]
  },
  {
   "cell_type": "markdown",
   "id": "07eff82e",
   "metadata": {},
   "source": [
    "\n",
    "## 1. Types of Fixed Income Securities\n",
    "\n",
    "Fixed income securities can vary in structure and risk, but the primary types include:\n",
    "\n",
    "- **Bonds**: Long-term debt securities issued by corporations, municipalities, and governments to raise capital.\n",
    "- **Treasury Bills (T-bills)**: Short-term government securities with maturities of one year or less, typically sold at a discount to face value.\n",
    "- **Notes**: Medium-term debt instruments, usually with maturities between one and ten years.\n",
    "- **Commercial Paper**: Short-term debt issued by corporations to finance their operations.\n",
    "- **Certificates of Deposit (CDs)**: Fixed-term deposits offered by banks with a specific interest rate.\n",
    "\n",
    "These instruments provide regular income through interest payments and are generally less volatile than equities.\n"
   ]
  },
  {
   "cell_type": "markdown",
   "id": "af4fe5b3",
   "metadata": {},
   "source": [
    "\n",
    "## 2. Characteristics of Fixed Income Securities\n",
    "\n",
    "Fixed income securities have specific characteristics that determine their returns and risks:\n",
    "\n",
    "- **Face Value**: The principal amount paid to the holder at maturity.\n",
    "- **Coupon Rate**: The interest rate paid by the issuer on the face value.\n",
    "- **Maturity Date**: The date when the principal amount is repaid.\n",
    "- **Yield**: The return earned by an investor, which may vary depending on the bond’s price, coupon, and maturity.\n",
    "- **Credit Rating**: A measure of the issuer's creditworthiness, impacting the risk and return profile.\n",
    "\n",
    "Understanding these characteristics helps investors evaluate different fixed income securities and their fit within a portfolio.\n"
   ]
  },
  {
   "cell_type": "markdown",
   "id": "70536bbc",
   "metadata": {},
   "source": [
    "\n",
    "## 3. Role in Portfolio Management\n",
    "\n",
    "Fixed income securities play a vital role in portfolio management by:\n",
    "\n",
    "- **Providing Stable Income**: Fixed income offers predictable income streams, appealing to conservative investors.\n",
    "- **Diversification**: Adding bonds and other fixed income instruments helps diversify a portfolio, reducing risk through exposure to different asset classes.\n",
    "- **Risk Management**: High-quality bonds (e.g., government bonds) act as safe-haven assets during market downturns, balancing the risk from equity investments.\n",
    "\n",
    "These features make fixed income an essential component in building resilient portfolios.\n"
   ]
  },
  {
   "cell_type": "markdown",
   "id": "23d287da",
   "metadata": {},
   "source": [
    "\n",
    "## 4. Example: Simple Bond Valuation\n",
    "\n",
    "Bond valuation is the process of calculating the present value of a bond’s future interest payments and the face value at maturity.\n",
    "\n",
    "Let's consider a bond with the following details:\n",
    "\n",
    "- Face Value: \\( \\$1000 \\)\n",
    "- Coupon Rate: \\( 5\\% \\)\n",
    "- Years to Maturity: 10\n",
    "- Discount Rate: \\( 4\\% \\)\n",
    "\n",
    "We'll calculate the bond's present value using these parameters.\n"
   ]
  },
  {
   "cell_type": "code",
   "execution_count": null,
   "id": "6fb08818",
   "metadata": {},
   "outputs": [
    {
     "name": "stdout",
     "output_type": "stream",
     "text": [
      "Present Value of the Bond: $ 1081.11\n"
     ]
    }
   ],
   "source": [
    "\n",
    "# Bond Valuation Example\n",
    "face_value = 1000  # Face value of the bond\n",
    "coupon_rate = 0.05  # Coupon rate (5%)\n",
    "years_to_maturity = 10  # Years until the bond matures\n",
    "discount_rate = 0.04  # Discount rate (4%)\n",
    "\n",
    "# Calculate annual coupon payment\n",
    "coupon_payment = face_value * coupon_rate\n",
    "\n",
    "# Calculate the present value of future coupon payments\n",
    "pv_coupons = sum([coupon_payment / ((1 + discount_rate) ** t) for t in range(1, years_to_maturity + 1)])\n",
    "\n",
    "# Calculate the present value of the face value at maturity\n",
    "pv_face_value = face_value / ((1 + discount_rate) ** years_to_maturity)\n",
    "\n",
    "# Total present value of the bond\n",
    "bond_value = pv_coupons + pv_face_value\n",
    "print(\"Present Value of the Bond: $\", round(bond_value, 2))\n"
   ]
  },
  {
   "cell_type": "markdown",
   "id": "c4204186",
   "metadata": {},
   "source": [
    "\n",
    "## Summary\n",
    "\n",
    "In this notebook, we covered:\n",
    "\n",
    "- **Types of Fixed Income Securities**: Bonds, T-bills, notes, and other debt instruments.\n",
    "- **Characteristics of Fixed Income**: Key features like coupon rate, maturity, and yield.\n",
    "- **Role in Portfolio Management**: How fixed income contributes to diversification and risk reduction.\n",
    "\n",
    "We also demonstrated a simple bond valuation, showing how the present value of future payments can be calculated.\n",
    "\n",
    "Fixed income securities are foundational in portfolio management, providing stability, income, and diversification.\n"
   ]
  }
 ],
 "metadata": {
  "kernelspec": {
   "display_name": ".venv",
   "language": "python",
   "name": "python3"
  },
  "language_info": {
   "codemirror_mode": {
    "name": "ipython",
    "version": 3
   },
   "file_extension": ".py",
   "mimetype": "text/x-python",
   "name": "python",
   "nbconvert_exporter": "python",
   "pygments_lexer": "ipython3",
   "version": "3.12.7"
  }
 },
 "nbformat": 4,
 "nbformat_minor": 5
}
