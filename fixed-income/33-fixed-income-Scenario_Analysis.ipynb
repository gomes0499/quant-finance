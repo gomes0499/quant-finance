{
 "cells": [
  {
   "cell_type": "markdown",
   "id": "3c2a9cff",
   "metadata": {},
   "source": [
    "\n",
    "# Scenario Analysis: Projecting Portfolio Outcomes Under Macroeconomic Scenarios\n",
    "\n",
    "## Overview\n",
    "Scenario analysis allows investors to project potential portfolio outcomes under various macroeconomic conditions, such as an inflation surge or recession. By examining different scenarios, investors can better understand the potential impact of economic shifts on their portfolios.\n",
    "\n",
    "In this notebook, we will:\n",
    "\n",
    "- **Understand Scenario Analysis**: Learn the basics of projecting portfolio outcomes under macroeconomic scenarios.\n",
    "- **Define Macroeconomic Scenarios**: Model different economic conditions and apply them to a fixed income portfolio.\n",
    "- **Example Portfolio Analysis**: Calculate potential portfolio outcomes for each scenario.\n",
    "\n",
    "Scenario analysis is a valuable tool for fixed income investors to anticipate and manage risks associated with macroeconomic shifts.\n"
   ]
  },
  {
   "cell_type": "markdown",
   "id": "831a94d0",
   "metadata": {},
   "source": [
    "\n",
    "## 1. Basics of Scenario Analysis\n",
    "\n",
    "Scenario analysis involves evaluating how a portfolio would perform under specific economic conditions. Common scenarios in fixed income include:\n",
    "\n",
    "- **Inflation Surge**: Rising inflation, leading to higher interest rates and declining bond prices.\n",
    "- **Recession**: Economic slowdown, with falling interest rates and potential increases in credit spreads for corporate bonds.\n",
    "- **Interest Rate Hike**: Central bank rate hikes that impact bond yields across the yield curve.\n",
    "\n",
    "By applying these scenarios, investors can assess the resilience of their portfolios to different economic shifts.\n"
   ]
  },
  {
   "cell_type": "markdown",
   "id": "b78bfde5",
   "metadata": {},
   "source": [
    "\n",
    "## 2. Setting Up a Hypothetical Portfolio and Economic Scenarios\n",
    "\n",
    "Consider a portfolio with:\n",
    "\n",
    "- **Government Bond**: 5-year duration, low credit risk\n",
    "- **Corporate Bond**: 7-year duration, higher credit risk\n",
    "\n",
    "### Economic Scenarios\n",
    "1. **Inflation Surge**: A 1.5% increase in interest rates.\n",
    "2. **Recession**: A 1% decrease in interest rates with a 0.5% widening in corporate credit spreads.\n",
    "3. **Interest Rate Hike**: A 2% increase in interest rates.\n",
    "\n",
    "We will calculate the impact of each scenario on the portfolio's value.\n"
   ]
  },
  {
   "cell_type": "code",
   "execution_count": 2,
   "id": "d6510ff9",
   "metadata": {},
   "outputs": [
    {
     "name": "stdout",
     "output_type": "stream",
     "text": [
      "Scenario: Inflation Surge\n",
      "  Government Bond Impact: $-75.00\n",
      "  Corporate Bond Impact from Interest Rate: $-105.00\n",
      "  Corporate Bond Impact from Credit Spread: $-0.00\n",
      "  Total Corporate Bond Impact: $-105.00\n",
      "  Total Portfolio Impact: $-180.00\n",
      "Scenario: Recession\n",
      "  Government Bond Impact: $50.00\n",
      "  Corporate Bond Impact from Interest Rate: $70.00\n",
      "  Corporate Bond Impact from Credit Spread: $-35.00\n",
      "  Total Corporate Bond Impact: $35.00\n",
      "  Total Portfolio Impact: $85.00\n",
      "Scenario: Interest Rate Hike\n",
      "  Government Bond Impact: $-100.00\n",
      "  Corporate Bond Impact from Interest Rate: $-140.00\n",
      "  Corporate Bond Impact from Credit Spread: $-0.00\n",
      "  Total Corporate Bond Impact: $-140.00\n",
      "  Total Portfolio Impact: $-240.00\n"
     ]
    }
   ],
   "source": [
    "\n",
    "# Define portfolio and scenarios\n",
    "portfolio = {\n",
    "    \"Government Bond\": {\"price\": 1000, \"duration\": 5, \"credit_spread\": 0.0},\n",
    "    \"Corporate Bond\": {\"price\": 1000, \"duration\": 7, \"credit_spread\": 0.02}\n",
    "}\n",
    "\n",
    "# Scenario parameters\n",
    "scenarios = {\n",
    "    \"Inflation Surge\": {\"interest_rate_change\": 0.015, \"credit_spread_change\": 0.0},\n",
    "    \"Recession\": {\"interest_rate_change\": -0.01, \"credit_spread_change\": 0.005},\n",
    "    \"Interest Rate Hike\": {\"interest_rate_change\": 0.02, \"credit_spread_change\": 0.0}\n",
    "}\n",
    "\n",
    "# Calculate portfolio impact for each scenario\n",
    "for scenario, params in scenarios.items():\n",
    "    print(f\"Scenario: {scenario}\")\n",
    "    gov_bond_impact = -portfolio[\"Government Bond\"][\"duration\"] * params[\"interest_rate_change\"] * portfolio[\"Government Bond\"][\"price\"]\n",
    "    corp_bond_impact_rate = -portfolio[\"Corporate Bond\"][\"duration\"] * params[\"interest_rate_change\"] * portfolio[\"Corporate Bond\"][\"price\"]\n",
    "    corp_bond_impact_credit = -portfolio[\"Corporate Bond\"][\"duration\"] * params[\"credit_spread_change\"] * portfolio[\"Corporate Bond\"][\"price\"]\n",
    "    corp_bond_total_impact = corp_bond_impact_rate + corp_bond_impact_credit\n",
    "    total_impact = gov_bond_impact + corp_bond_total_impact\n",
    "\n",
    "    print(f\"  Government Bond Impact: ${gov_bond_impact:.2f}\")\n",
    "    print(f\"  Corporate Bond Impact from Interest Rate: ${corp_bond_impact_rate:.2f}\")\n",
    "    print(f\"  Corporate Bond Impact from Credit Spread: ${corp_bond_impact_credit:.2f}\")\n",
    "    print(f\"  Total Corporate Bond Impact: ${corp_bond_total_impact:.2f}\")\n",
    "    print(f\"  Total Portfolio Impact: ${total_impact:.2f}\")\n"
   ]
  },
  {
   "cell_type": "markdown",
   "id": "5d836479",
   "metadata": {},
   "source": [
    "\n",
    "## Summary\n",
    "\n",
    "In this notebook, we covered:\n",
    "\n",
    "- **Basics of Scenario Analysis**: Understanding how different macroeconomic scenarios impact fixed income portfolios.\n",
    "- **Setting Up Economic Scenarios**: Defining potential inflation, recession, and rate hike scenarios.\n",
    "- **Portfolio Impact Calculation**: Calculating potential outcomes under each scenario.\n",
    "\n",
    "Scenario analysis helps fixed income investors prepare for economic changes, enhancing their ability to manage portfolio risks effectively.\n"
   ]
  }
 ],
 "metadata": {
  "kernelspec": {
   "display_name": ".venv",
   "language": "python",
   "name": "python3"
  },
  "language_info": {
   "codemirror_mode": {
    "name": "ipython",
    "version": 3
   },
   "file_extension": ".py",
   "mimetype": "text/x-python",
   "name": "python",
   "nbconvert_exporter": "python",
   "pygments_lexer": "ipython3",
   "version": "3.12.7"
  }
 },
 "nbformat": 4,
 "nbformat_minor": 5
}
