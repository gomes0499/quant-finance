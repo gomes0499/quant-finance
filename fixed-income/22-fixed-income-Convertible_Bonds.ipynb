{
 "cells": [
  {
   "cell_type": "markdown",
   "id": "2419503d",
   "metadata": {},
   "source": [
    "\n",
    "# Convertible Bonds: Hybrid Securities with Fixed Income and Equity Characteristics\n",
    "\n",
    "## Overview\n",
    "Convertible bonds are hybrid securities that combine characteristics of both bonds and stocks. They offer fixed income through regular coupon payments, with the added option to convert the bond into a specified number of shares of the issuing company's stock.\n",
    "\n",
    "In this notebook, we will:\n",
    "\n",
    "- **Understand Convertible Bonds**: Explore the basics of convertible bonds and how they function.\n",
    "- **Discuss Valuation Components**: Review the fixed income and equity components that influence the bond's value.\n",
    "- **Example Valuation Calculation**: Calculate a hypothetical convertible bond's value based on its fixed income and conversion features.\n",
    "\n",
    "Convertible bonds provide investors with fixed income stability and potential upside from equity appreciation.\n"
   ]
  },
  {
   "cell_type": "markdown",
   "id": "b0fa59d3",
   "metadata": {},
   "source": [
    "\n",
    "## 1. Basics of Convertible Bonds\n",
    "\n",
    "Convertible bonds are debt securities that can be converted into a predetermined number of the issuer's equity shares at the bondholder's discretion. Key features include:\n",
    "\n",
    "- **Coupon Payments**: Like traditional bonds, convertible bonds pay periodic interest, offering income stability.\n",
    "- **Conversion Option**: Convertible bonds include an option to convert into equity shares, providing potential upside if the company's stock price increases.\n",
    "- **Hybrid Nature**: These bonds combine debt and equity characteristics, making them unique in the fixed income universe.\n",
    "\n",
    "Investors often consider convertible bonds to balance income and growth potential.\n"
   ]
  },
  {
   "cell_type": "markdown",
   "id": "f3e8d3c0",
   "metadata": {},
   "source": [
    "\n",
    "## 2. Valuation Components of Convertible Bonds\n",
    "\n",
    "Convertible bonds have two main components that influence their value:\n",
    "\n",
    "- **Bond Value (Fixed Income Component)**: The bond's value as a fixed-income instrument, discounted based on coupon payments and maturity value.\n",
    "- **Conversion Value (Equity Component)**: The value if converted into equity, based on the current stock price and conversion ratio.\n",
    "\n",
    "The convertible bond's value is typically the greater of its bond value or conversion value.\n"
   ]
  },
  {
   "cell_type": "markdown",
   "id": "c40cbf45",
   "metadata": {},
   "source": [
    "\n",
    "## 3. Example Calculation: Valuing a Convertible Bond\n",
    "\n",
    "Consider a convertible bond with:\n",
    "\n",
    "- Face Value: $1,000\n",
    "- Annual Coupon Rate: 4%\n",
    "- Maturity: 5 years\n",
    "- Conversion Ratio: 20 shares per bond\n",
    "- Current Stock Price: $50\n",
    "\n",
    "We will calculate the bond value and the conversion value to determine its overall value.\n"
   ]
  },
  {
   "cell_type": "code",
   "execution_count": 1,
   "id": "fba5bfd3",
   "metadata": {},
   "outputs": [
    {
     "name": "stdout",
     "output_type": "stream",
     "text": [
      "Bond Value (Fixed Income Component): $956.71\n",
      "Conversion Value (Equity Component): $1,000.00\n",
      "Convertible Bond Value: $1,000.00\n"
     ]
    }
   ],
   "source": [
    "\n",
    "# Parameters for convertible bond valuation\n",
    "face_value = 1000           # Face value of the bond\n",
    "annual_coupon_rate = 0.04   # Annual coupon rate (4%)\n",
    "maturity = 5                # Maturity in years\n",
    "conversion_ratio = 20       # Number of shares per bond if converted\n",
    "current_stock_price = 50    # Current price per share\n",
    "\n",
    "# Calculate bond value (fixed income component) as present value of cash flows\n",
    "discount_rate = 0.05  # Hypothetical discount rate (5%)\n",
    "coupon_payment = face_value * annual_coupon_rate\n",
    "bond_value = sum([coupon_payment / (1 + discount_rate)**t for t in range(1, maturity + 1)]) + face_value / (1 + discount_rate)**maturity\n",
    "\n",
    "# Calculate conversion value (equity component)\n",
    "conversion_value = conversion_ratio * current_stock_price\n",
    "\n",
    "# Determine the convertible bond value as the greater of bond value or conversion value\n",
    "convertible_bond_value = max(bond_value, conversion_value)\n",
    "\n",
    "print(f\"Bond Value (Fixed Income Component): ${bond_value:,.2f}\")\n",
    "print(f\"Conversion Value (Equity Component): ${conversion_value:,.2f}\")\n",
    "print(f\"Convertible Bond Value: ${convertible_bond_value:,.2f}\")\n"
   ]
  },
  {
   "cell_type": "markdown",
   "id": "aa499007",
   "metadata": {},
   "source": [
    "\n",
    "## Summary\n",
    "\n",
    "In this notebook, we covered:\n",
    "\n",
    "- **Basics of Convertible Bonds**: Understanding how convertible bonds combine debt and equity features.\n",
    "- **Valuation Components**: Analyzing the bond and conversion values that influence a convertible bond's worth.\n",
    "- **Example Valuation Calculation**: Calculating the value of a hypothetical convertible bond.\n",
    "\n",
    "Convertible bonds offer a unique investment choice for those seeking fixed income with equity upside potential.\n"
   ]
  }
 ],
 "metadata": {
  "kernelspec": {
   "display_name": ".venv",
   "language": "python",
   "name": "python3"
  },
  "language_info": {
   "codemirror_mode": {
    "name": "ipython",
    "version": 3
   },
   "file_extension": ".py",
   "mimetype": "text/x-python",
   "name": "python",
   "nbconvert_exporter": "python",
   "pygments_lexer": "ipython3",
   "version": "3.12.7"
  }
 },
 "nbformat": 4,
 "nbformat_minor": 5
}
