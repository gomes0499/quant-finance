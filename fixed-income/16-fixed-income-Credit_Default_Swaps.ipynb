{
 "cells": [
  {
   "cell_type": "markdown",
   "id": "e6ec6cd8",
   "metadata": {},
   "source": [
    "\n",
    "# Credit Default Swaps (CDS): Managing Credit Risk and Pricing Default Risk\n",
    "\n",
    "## Overview\n",
    "A Credit Default Swap (CDS) is a financial derivative that allows an investor to manage credit risk. It serves as a form of insurance against the default of a borrower or entity, with one party (the protection buyer) paying a premium to another (the protection seller) to compensate for potential default.\n",
    "\n",
    "In this notebook, we will:\n",
    "\n",
    "- **Understand the Basics of Credit Default Swaps**: Discuss how CDS contracts work and the roles of protection buyers and sellers.\n",
    "- **Explore CDS Pricing**: Review factors that impact CDS pricing and calculate an example premium.\n",
    "- **Discuss Risk Management Applications**: Explore how CDS can be used to hedge against credit risk.\n",
    "\n",
    "Credit default swaps are widely used in fixed-income markets to hedge or speculate on the creditworthiness of entities.\n"
   ]
  },
  {
   "cell_type": "markdown",
   "id": "b1d01097",
   "metadata": {},
   "source": [
    "\n",
    "## 1. Basics of Credit Default Swaps\n",
    "\n",
    "A CDS involves two parties:\n",
    "\n",
    "- **Protection Buyer**: Pays periodic premiums to the protection seller and receives a payout if the referenced entity defaults.\n",
    "- **Protection Seller**: Receives premiums and assumes the risk of default; if a credit event occurs, they must compensate the buyer.\n",
    "\n",
    "CDS contracts are commonly based on bonds or loans, and they allow investors to transfer or acquire credit risk without actually holding the underlying asset.\n"
   ]
  },
  {
   "cell_type": "markdown",
   "id": "9749cd29",
   "metadata": {},
   "source": [
    "\n",
    "## 2. Hypothetical CDS Premium Calculation\n",
    "\n",
    "Consider a CDS contract with:\n",
    "\n",
    "- Notional Amount: $10,000,000\n",
    "- Credit Spread: 1.5% (based on the perceived risk of default)\n",
    "- Payment Frequency: Quarterly\n",
    "\n",
    "We'll calculate the quarterly premium paid by the protection buyer.\n"
   ]
  },
  {
   "cell_type": "code",
   "execution_count": 1,
   "id": "c3db3a6d",
   "metadata": {},
   "outputs": [
    {
     "name": "stdout",
     "output_type": "stream",
     "text": [
      "Notional Amount: $10,000,000.00\n",
      "Annual Credit Spread: 1.50%\n",
      "Quarterly Premium: $37,500.00\n"
     ]
    }
   ],
   "source": [
    "\n",
    "# Parameters for CDS premium calculation\n",
    "notional_amount = 10_000_000  # Notional amount in dollars\n",
    "credit_spread = 0.015         # Annual credit spread (1.5%)\n",
    "\n",
    "# Calculate quarterly premium\n",
    "quarterly_premium = (notional_amount * credit_spread) / 4\n",
    "\n",
    "print(f\"Notional Amount: ${notional_amount:,.2f}\")\n",
    "print(f\"Annual Credit Spread: {credit_spread:.2%}\")\n",
    "print(f\"Quarterly Premium: ${quarterly_premium:,.2f}\")\n"
   ]
  },
  {
   "cell_type": "markdown",
   "id": "d99593c2",
   "metadata": {},
   "source": [
    "\n",
    "## 3. Risk Management Applications of CDS\n",
    "\n",
    "CDS are frequently used by investors to manage and hedge credit risk:\n",
    "\n",
    "- **Hedging**: Bondholders can use CDS to protect against the risk of default by purchasing protection on the issuer.\n",
    "- **Speculation**: Investors may use CDS to speculate on changes in an issuer's creditworthiness, potentially profiting if the issuer’s credit risk increases.\n",
    "\n",
    "This flexibility makes CDS a valuable tool for risk management, but also introduces potential risks if used for speculative purposes.\n"
   ]
  },
  {
   "cell_type": "markdown",
   "id": "b93d16b8",
   "metadata": {},
   "source": [
    "\n",
    "## Summary\n",
    "\n",
    "In this notebook, we covered:\n",
    "\n",
    "- **Basics of Credit Default Swaps**: Understanding the roles of protection buyers and sellers and the mechanics of CDS contracts.\n",
    "- **CDS Premium Calculation**: Calculating the quarterly premium for a hypothetical CDS contract.\n",
    "- **Risk Management Applications**: Using CDS to hedge or speculate on credit risk.\n",
    "\n",
    "Credit default swaps are powerful tools for managing credit exposure, offering both protection and speculative opportunities in fixed-income markets.\n"
   ]
  }
 ],
 "metadata": {
  "kernelspec": {
   "display_name": ".venv",
   "language": "python",
   "name": "python3"
  },
  "language_info": {
   "codemirror_mode": {
    "name": "ipython",
    "version": 3
   },
   "file_extension": ".py",
   "mimetype": "text/x-python",
   "name": "python",
   "nbconvert_exporter": "python",
   "pygments_lexer": "ipython3",
   "version": "3.12.7"
  }
 },
 "nbformat": 4,
 "nbformat_minor": 5
}
