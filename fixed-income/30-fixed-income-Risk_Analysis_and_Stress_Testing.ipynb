{
 "cells": [
  {
   "cell_type": "markdown",
   "id": "50a35f0c",
   "metadata": {},
   "source": [
    "\n",
    "# Risk Analysis and Stress Testing: Evaluating Portfolio Resilience\n",
    "\n",
    "## Overview\n",
    "Risk analysis and stress testing are essential for understanding how a fixed income portfolio may perform under adverse conditions, such as sudden changes in interest rates or economic downturns.\n",
    "\n",
    "In this notebook, we will:\n",
    "\n",
    "- **Understand Risk Analysis and Stress Testing**: Explore the basics of assessing portfolio risk and resilience.\n",
    "- **Use Real Data for Analysis**: Download historical data to simulate portfolio reactions to various scenarios.\n",
    "- **Example Stress Test**: Model the impact of interest rate shifts on a hypothetical bond portfolio.\n",
    "\n",
    "Stress testing helps investors identify potential vulnerabilities in their portfolios and prepare for adverse scenarios.\n"
   ]
  },
  {
   "cell_type": "markdown",
   "id": "e0ceea98",
   "metadata": {},
   "source": [
    "\n",
    "## 1. Basics of Risk Analysis and Stress Testing\n",
    "\n",
    "Risk analysis evaluates a portfolio's sensitivity to various risk factors, including:\n",
    "\n",
    "- **Interest Rate Risk**: How bond prices may react to changing interest rates.\n",
    "- **Credit Risk**: Assessing the impact of deteriorating credit quality on bond values.\n",
    "- **Liquidity Risk**: Evaluating the potential difficulty of selling bonds during adverse market conditions.\n",
    "\n",
    "Stress testing involves modeling the portfolio's performance under extreme but plausible conditions, such as a sharp increase in interest rates or a severe recession.\n"
   ]
  },
  {
   "cell_type": "markdown",
   "id": "20562ff2",
   "metadata": {},
   "source": [
    "\n",
    "## 2. Setting Up a Hypothetical Bond Portfolio\n",
    "\n",
    "We’ll create a hypothetical bond portfolio consisting of:\n",
    "\n",
    "1. **Corporate Bond ETF (LQD)**: Representing corporate bonds with moderate risk.\n",
    "2. **Treasury Bond ETF (GOVT)**: Representing government bonds with lower risk.\n",
    "\n",
    "### Download Data\n"
   ]
  },
  {
   "cell_type": "code",
   "execution_count": 1,
   "id": "821849a3",
   "metadata": {},
   "outputs": [
    {
     "name": "stderr",
     "output_type": "stream",
     "text": [
      "[*********************100%***********************]  1 of 1 completed\n",
      "[*********************100%***********************]  1 of 1 completed\n"
     ]
    }
   ],
   "source": [
    "\n",
    "import yfinance as yf\n",
    "import matplotlib.pyplot as plt\n",
    "import pandas as pd\n",
    "\n",
    "# Download historical price data for corporate bond ETF (LQD) and Treasury bond ETF (GOVT)\n",
    "corporate_etf = yf.download(\"LQD\", start=\"2010-01-01\", end=\"2023-01-01\")\n",
    "treasury_etf = yf.download(\"GOVT\", start=\"2010-01-01\", end=\"2023-01-01\")\n",
    "\n",
    "# Calculate daily returns for each ETF\n",
    "corporate_returns = corporate_etf['Adj Close'].pct_change().dropna()\n",
    "treasury_returns = treasury_etf['Adj Close'].pct_change().dropna()\n",
    "\n",
    "# Align data to ensure consistent dates\n",
    "aligned_returns = pd.concat([corporate_returns, treasury_returns], axis=1, join=\"inner\")\n",
    "aligned_returns.columns = [\"Corporate Returns\", \"Treasury Returns\"]\n"
   ]
  },
  {
   "cell_type": "markdown",
   "id": "46c44681",
   "metadata": {},
   "source": [
    "\n",
    "## 3. Stress Test Example: Interest Rate Shock\n",
    "\n",
    "To simulate an interest rate shock, we’ll model the impact of a 1% increase in interest rates on the bond portfolio. For simplicity, we assume:\n",
    "\n",
    "- A 1% increase in interest rates results in a **5% decline in corporate bond ETF (LQD)**.\n",
    "- A 1% increase in interest rates results in a **3% decline in Treasury bond ETF (GOVT)**.\n",
    "\n",
    "We’ll calculate the portfolio’s value change based on these assumptions.\n"
   ]
  },
  {
   "cell_type": "code",
   "execution_count": 2,
   "id": "f44460e7",
   "metadata": {},
   "outputs": [
    {
     "name": "stdout",
     "output_type": "stream",
     "text": [
      "Portfolio Value Change under 1% Interest Rate Shock: -4.00%\n"
     ]
    }
   ],
   "source": [
    "\n",
    "# Define hypothetical shock impact percentages\n",
    "shock_corporate = -0.05  # 5% decline for corporate bonds (LQD)\n",
    "shock_treasury = -0.03   # 3% decline for treasury bonds (GOVT)\n",
    "\n",
    "# Assume a 50-50 portfolio allocation between corporate and treasury bonds\n",
    "portfolio_weights = [0.5, 0.5]\n",
    "\n",
    "# Calculate portfolio impact under interest rate shock\n",
    "portfolio_return_shock = portfolio_weights[0] * shock_corporate + portfolio_weights[1] * shock_treasury\n",
    "portfolio_value_change = portfolio_return_shock * 100  # in percentage\n",
    "\n",
    "print(f\"Portfolio Value Change under 1% Interest Rate Shock: {portfolio_value_change:.2f}%\")\n"
   ]
  },
  {
   "cell_type": "markdown",
   "id": "45ffb7b0",
   "metadata": {},
   "source": [
    "\n",
    "## Summary\n",
    "\n",
    "In this notebook, we covered:\n",
    "\n",
    "- **Basics of Risk Analysis and Stress Testing**: Understanding portfolio risks, including interest rate and credit risks.\n",
    "- **Example Stress Test**: Simulating an interest rate shock and assessing its impact on a hypothetical bond portfolio.\n",
    "\n",
    "Stress testing is essential for managing fixed income portfolios, as it prepares investors for adverse conditions and enables better risk management.\n"
   ]
  }
 ],
 "metadata": {
  "kernelspec": {
   "display_name": ".venv",
   "language": "python",
   "name": "python3"
  },
  "language_info": {
   "codemirror_mode": {
    "name": "ipython",
    "version": 3
   },
   "file_extension": ".py",
   "mimetype": "text/x-python",
   "name": "python",
   "nbconvert_exporter": "python",
   "pygments_lexer": "ipython3",
   "version": "3.12.7"
  }
 },
 "nbformat": 4,
 "nbformat_minor": 5
}
