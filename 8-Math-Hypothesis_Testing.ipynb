{
 "cells": [
  {
   "cell_type": "markdown",
   "id": "aa111dfa",
   "metadata": {},
   "source": [
    "\n",
    "# Hypothesis Testing: t-tests, Chi-Square Tests, and ANOVA\n",
    "\n",
    "## Overview\n",
    "Hypothesis testing is a statistical method used to make inferences or draw conclusions about a population based on sample data. This notebook covers:\n",
    "\n",
    "- **t-tests**: Test whether the means of two groups are significantly different.\n",
    "- **Chi-Square Tests**: Test for independence between categorical variables.\n",
    "- **ANOVA (Analysis of Variance)**: Test for differences in means across multiple groups.\n"
   ]
  },
  {
   "cell_type": "markdown",
   "id": "e2de59d0",
   "metadata": {},
   "source": [
    "\n",
    "## 1. t-Tests\n",
    "\n",
    "A t-test assesses whether the means of two groups are statistically different. Types of t-tests include:\n",
    "\n",
    "- **One-sample t-test**: Tests if the sample mean is significantly different from a known value.\n",
    "- **Independent two-sample t-test**: Tests if the means of two independent groups are different.\n",
    "- **Paired t-test**: Tests if the means of two related groups are different.\n",
    "\n",
    "Let's conduct an independent two-sample t-test in Python.\n"
   ]
  },
  {
   "cell_type": "code",
   "execution_count": 1,
   "id": "47418eab",
   "metadata": {},
   "outputs": [
    {
     "name": "stdout",
     "output_type": "stream",
     "text": [
      "t-statistic: -1.0246375585969996\n",
      "p-value: 0.30978886450466103\n",
      "Fail to reject the null hypothesis: The means are not significantly different.\n"
     ]
    }
   ],
   "source": [
    "\n",
    "import numpy as np\n",
    "from scipy import stats\n",
    "\n",
    "# Generate sample data for two groups\n",
    "np.random.seed(0)\n",
    "group1 = np.random.normal(10, 2, 30)  # Mean 10, SD 2, n=30\n",
    "group2 = np.random.normal(12, 2, 30)  # Mean 12, SD 2, n=30\n",
    "\n",
    "# Independent two-sample t-test\n",
    "t_stat, p_value = stats.ttest_ind(group1, group2)\n",
    "print(\"t-statistic:\", t_stat)\n",
    "print(\"p-value:\", p_value)\n",
    "\n",
    "# Interpretation\n",
    "alpha = 0.05\n",
    "if p_value < alpha:\n",
    "    print(\"Reject the null hypothesis: The means are significantly different.\")\n",
    "else:\n",
    "    print(\"Fail to reject the null hypothesis: The means are not significantly different.\")\n"
   ]
  },
  {
   "cell_type": "markdown",
   "id": "3a68b232",
   "metadata": {},
   "source": [
    "\n",
    "## 2. Chi-Square Test\n",
    "\n",
    "The chi-square test is used to determine if there is a significant association between categorical variables.\n",
    "\n",
    "For example, suppose we want to test if there is an association between gender (male/female) and preference for a product (like/dislike). We can use a chi-square test for independence.\n",
    "\n",
    "Let's perform a chi-square test on a contingency table.\n"
   ]
  },
  {
   "cell_type": "code",
   "execution_count": 2,
   "id": "678d2b2e",
   "metadata": {},
   "outputs": [
    {
     "name": "stdout",
     "output_type": "stream",
     "text": [
      "Chi-square statistic: 9.955555555555556\n",
      "p-value: 0.001603647262414105\n",
      "Degrees of freedom: 1\n",
      "Expected frequencies:\n",
      " [[22.5 17.5]\n",
      " [22.5 17.5]]\n",
      "Reject the null hypothesis: There is an association between gender and preference.\n"
     ]
    }
   ],
   "source": [
    "# Contingency table\n",
    "# Example: Gender (Male/Female) vs Preference (Like/Dislike)\n",
    "observed = np.array([[30, 10], [15, 25]])  # Format: [[Male_like, Male_dislike], [Female_like, Female_dislike]]\n",
    "\n",
    "# Chi-square test of independence\n",
    "chi2_stat, p_value, dof, expected = stats.chi2_contingency(observed)\n",
    "print(\"Chi-square statistic:\", chi2_stat)\n",
    "print(\"p-value:\", p_value)\n",
    "print(\"Degrees of freedom:\", dof)\n",
    "print(\"Expected frequencies:\\n\", expected)\n",
    "\n",
    "# Interpretation\n",
    "if p_value < alpha:\n",
    "    print(\"Reject the null hypothesis: There is an association between gender and preference.\")\n",
    "else:\n",
    "    print(\"Fail to reject the null hypothesis: No association between gender and preference.\")\n"
   ]
  },
  {
   "cell_type": "markdown",
   "id": "5fb99043",
   "metadata": {},
   "source": [
    "\n",
    "## 3. ANOVA (Analysis of Variance)\n",
    "\n",
    "ANOVA is used to test whether the means of three or more groups are significantly different. It is an extension of the t-test for more than two groups.\n",
    "\n",
    "The null hypothesis for ANOVA is that all group means are equal. If we reject the null hypothesis, at least one group mean is different.\n",
    "\n",
    "Let's conduct a one-way ANOVA test.\n"
   ]
  },
  {
   "cell_type": "code",
   "execution_count": 3,
   "id": "10769056",
   "metadata": {},
   "outputs": [
    {
     "name": "stdout",
     "output_type": "stream",
     "text": [
      "F-statistic: 220.363105625877\n",
      "p-value: 8.796512926879192e-35\n",
      "Reject the null hypothesis: At least one group mean is different.\n"
     ]
    }
   ],
   "source": [
    "\n",
    "# Generate sample data for three groups\n",
    "group1 = np.random.normal(10, 2, 30)  # Mean 10, SD 2, n=30\n",
    "group2 = np.random.normal(15, 2, 30)  # Mean 15, SD 2, n=30\n",
    "group3 = np.random.normal(20, 2, 30)  # Mean 20, SD 2, n=30\n",
    "\n",
    "# One-way ANOVA\n",
    "f_stat, p_value = stats.f_oneway(group1, group2, group3)\n",
    "print(\"F-statistic:\", f_stat)\n",
    "print(\"p-value:\", p_value)\n",
    "\n",
    "# Interpretation\n",
    "if p_value < alpha:\n",
    "    print(\"Reject the null hypothesis: At least one group mean is different.\")\n",
    "else:\n",
    "    print(\"Fail to reject the null hypothesis: No significant difference in group means.\")\n"
   ]
  },
  {
   "cell_type": "markdown",
   "id": "064a91df",
   "metadata": {},
   "source": [
    "\n",
    "## Summary\n",
    "\n",
    "In this notebook, we explored:\n",
    "\n",
    "- **t-tests**: Used to test for differences between means in one or two groups.\n",
    "- **Chi-Square Test**: Tests for independence between categorical variables.\n",
    "- **ANOVA (Analysis of Variance)**: Tests for differences in means across multiple groups.\n"
   ]
  },
  {
   "cell_type": "markdown",
   "id": "c7f8afcb",
   "metadata": {},
   "source": []
  }
 ],
 "metadata": {
  "kernelspec": {
   "display_name": ".venv",
   "language": "python",
   "name": "python3"
  },
  "language_info": {
   "codemirror_mode": {
    "name": "ipython",
    "version": 3
   },
   "file_extension": ".py",
   "mimetype": "text/x-python",
   "name": "python",
   "nbconvert_exporter": "python",
   "pygments_lexer": "ipython3",
   "version": "3.12.7"
  }
 },
 "nbformat": 4,
 "nbformat_minor": 5
}
