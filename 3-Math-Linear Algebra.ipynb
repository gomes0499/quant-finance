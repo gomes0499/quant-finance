{
 "cells": [
  {
   "cell_type": "markdown",
   "id": "5911bccc",
   "metadata": {},
   "source": [
    "\n",
    "# Linear Algebra: Matrix Operations, Eigenvalues, Eigenvectors, and Decomposition Methods\n",
    "\n",
    "## Overview\n",
    "Linear algebra is a foundational aspect of mathematics, especially important in fields like data science, machine learning, physics, and finance. In this notebook, we'll explore core concepts including:\n",
    "\n",
    "- Matrix operations (addition, multiplication, inversion)\n",
    "- Eigenvalues and eigenvectors\n",
    "- Matrix decompositions: LU and QR"
   ]
  },
  {
   "cell_type": "markdown",
   "id": "78715050",
   "metadata": {},
   "source": [
    "\n",
    "## 1. Matrix Operations\n",
    "\n",
    "Matrix operations are fundamental in linear algebra, allowing manipulation of matrices in various ways. We’ll cover:\n",
    "\n",
    "1. Matrix addition and multiplication\n",
    "2. Matrix inversion\n",
    "3. Transpose of a matrix\n"
   ]
  },
  {
   "cell_type": "code",
   "execution_count": 1,
   "id": "0492ff45",
   "metadata": {},
   "outputs": [
    {
     "name": "stdout",
     "output_type": "stream",
     "text": [
      "Matrix Addition (A + B):\n",
      " [[ 6  8]\n",
      " [10 12]]\n",
      "\n",
      "Matrix Multiplication (A * B):\n",
      " [[19 22]\n",
      " [43 50]]\n",
      "\n",
      "Matrix Inversion (A^-1):\n",
      " [[-2.   1. ]\n",
      " [ 1.5 -0.5]]\n",
      "\n",
      "Transpose of Matrix A (A^T):\n",
      " [[1 3]\n",
      " [2 4]]\n"
     ]
    }
   ],
   "source": [
    "\n",
    "import numpy as np\n",
    "\n",
    "# Define two matrices\n",
    "A = np.array([[1, 2], [3, 4]])\n",
    "B = np.array([[5, 6], [7, 8]])\n",
    "\n",
    "# Matrix addition\n",
    "C_add = A + B\n",
    "print(\"Matrix Addition (A + B):\\n\", C_add)\n",
    "\n",
    "# Matrix multiplication\n",
    "C_mult = np.dot(A, B)\n",
    "print(\"\\nMatrix Multiplication (A * B):\\n\", C_mult)\n",
    "\n",
    "# Matrix inversion\n",
    "A_inv = np.linalg.inv(A)\n",
    "print(\"\\nMatrix Inversion (A^-1):\\n\", A_inv)\n",
    "\n",
    "# Transpose of a matrix\n",
    "A_transpose = A.T\n",
    "print(\"\\nTranspose of Matrix A (A^T):\\n\", A_transpose)\n"
   ]
  },
  {
   "cell_type": "markdown",
   "id": "c2433310",
   "metadata": {},
   "source": [
    "\n",
    "## 2. Eigenvalues and Eigenvectors\n",
    "\n",
    "Eigenvalues and eigenvectors play a key role in understanding the properties of matrices, such as in principal component analysis (PCA).\n",
    "\n",
    "For a matrix \\( A \\), an eigenvector \\( v \\) and eigenvalue \\( \\lambda \\) satisfy:\n",
    "\n",
    "\\[ A \\cdot v = \\lambda \\cdot v \\]\n",
    "\n",
    "Let's calculate the eigenvalues and eigenvectors of matrix \\( A \\).\n"
   ]
  },
  {
   "cell_type": "code",
   "execution_count": 2,
   "id": "e7908b28",
   "metadata": {},
   "outputs": [
    {
     "name": "stdout",
     "output_type": "stream",
     "text": [
      "Eigenvalues of A:\n",
      " [-0.37228132  5.37228132]\n",
      "\n",
      "Eigenvectors of A:\n",
      " [[-0.82456484 -0.41597356]\n",
      " [ 0.56576746 -0.90937671]]\n"
     ]
    }
   ],
   "source": [
    "\n",
    "# Eigenvalues and Eigenvectors\n",
    "eigenvalues, eigenvectors = np.linalg.eig(A)\n",
    "print(\"Eigenvalues of A:\\n\", eigenvalues)\n",
    "print(\"\\nEigenvectors of A:\\n\", eigenvectors)\n"
   ]
  },
  {
   "cell_type": "markdown",
   "id": "6a141810",
   "metadata": {},
   "source": [
    "\n",
    "## 3. LU Decomposition\n",
    "\n",
    "LU decomposition factors a matrix \\( A \\) into the product of a lower triangular matrix \\( L \\) and an upper triangular matrix \\( U \\). This decomposition is useful for solving systems of linear equations.\n",
    "\n",
    "Let's perform an LU decomposition on matrix \\( A \\).\n"
   ]
  },
  {
   "cell_type": "code",
   "execution_count": 4,
   "id": "0ecbbf3a",
   "metadata": {},
   "outputs": [
    {
     "name": "stdout",
     "output_type": "stream",
     "text": [
      "Lower Triangular Matrix L:\n",
      " [[1.         0.        ]\n",
      " [0.33333333 1.        ]]\n",
      "\n",
      "Upper Triangular Matrix U:\n",
      " [[3.         4.        ]\n",
      " [0.         0.66666667]]\n",
      "\n",
      "Permutation Matrix P:\n",
      " [[0. 1.]\n",
      " [1. 0.]]\n"
     ]
    }
   ],
   "source": [
    "from scipy.linalg import lu\n",
    "\n",
    "# LU decomposition\n",
    "P, L, U = lu(A)\n",
    "print(\"Lower Triangular Matrix L:\\n\", L)\n",
    "print(\"\\nUpper Triangular Matrix U:\\n\", U)\n",
    "print(\"\\nPermutation Matrix P:\\n\", P)\n"
   ]
  },
  {
   "cell_type": "markdown",
   "id": "08ec2a65",
   "metadata": {},
   "source": [
    "\n",
    "## 4. QR Decomposition\n",
    "\n",
    "QR decomposition factors a matrix \\( A \\) into an orthogonal matrix \\( Q \\) and an upper triangular matrix \\( R \\). This decomposition is commonly used in least squares fitting and numerical solutions.\n",
    "\n",
    "Let's perform a QR decomposition on matrix \\( A \\).\n"
   ]
  },
  {
   "cell_type": "code",
   "execution_count": null,
   "id": "2843b632",
   "metadata": {},
   "outputs": [
    {
     "name": "stdout",
     "output_type": "stream",
     "text": [
      "Orthogonal Matrix Q:\n",
      " [[-0.31622777 -0.9486833 ]\n",
      " [-0.9486833   0.31622777]]\n",
      "\n",
      "Upper Triangular Matrix R:\n",
      " [[-3.16227766 -4.42718872]\n",
      " [ 0.         -0.63245553]]\n"
     ]
    }
   ],
   "source": [
    "# QR decomposition\n",
    "Q, R = np.linalg.qr(A)\n",
    "print(\"Orthogonal Matrix Q:\\n\", Q)\n",
    "print(\"\\nUpper Triangular Matrix R:\\n\", R)\n"
   ]
  },
  {
   "cell_type": "markdown",
   "id": "8e3a2b31",
   "metadata": {},
   "source": [
    "\n",
    "## Summary\n",
    "\n",
    "In this notebook, we covered:\n",
    "\n",
    "- Basic matrix operations: addition, multiplication, inversion, and transpose\n",
    "- Eigenvalues and eigenvectors\n",
    "- LU decomposition for solving systems of linear equations\n",
    "- QR decomposition for applications in least squares fitting\n"
   ]
  },
  {
   "cell_type": "markdown",
   "id": "612f57df",
   "metadata": {},
   "source": []
  }
 ],
 "metadata": {
  "kernelspec": {
   "display_name": ".venv",
   "language": "python",
   "name": "python3"
  },
  "language_info": {
   "codemirror_mode": {
    "name": "ipython",
    "version": 3
   },
   "file_extension": ".py",
   "mimetype": "text/x-python",
   "name": "python",
   "nbconvert_exporter": "python",
   "pygments_lexer": "ipython3",
   "version": "3.12.7"
  }
 },
 "nbformat": 4,
 "nbformat_minor": 5
}
